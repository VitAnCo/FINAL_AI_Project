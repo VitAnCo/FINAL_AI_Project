{
  "cells": [
    {
      "cell_type": "markdown",
      "metadata": {
        "id": "opBLAt3CixoN"
      },
      "source": [
        "# Mục mới"
      ]
    },
    {
      "cell_type": "code",
      "execution_count": null,
      "metadata": {
        "colab": {
          "base_uri": "https://localhost:8080/"
        },
        "id": "hB-3ocLlj6zy",
        "outputId": "1319f420-15a7-4754-810c-ad7c93c3fe8c"
      },
      "outputs": [
        {
          "output_type": "stream",
          "name": "stdout",
          "text": [
            "Mounted at /content/drive\n"
          ]
        }
      ],
      "source": [
        "from google.colab import drive\n",
        "drive.mount('/content/drive')"
      ]
    },
    {
      "cell_type": "code",
      "execution_count": null,
      "metadata": {
        "id": "zcvS9LLmjQ18",
        "colab": {
          "base_uri": "https://localhost:8080/"
        },
        "outputId": "4c817c41-cb56-4c3f-ecc9-153577d86c36"
      },
      "outputs": [
        {
          "output_type": "stream",
          "name": "stdout",
          "text": [
            "mkdir: cannot create directory ‘/root/.kaggle’: File exists\n",
            "cp: cannot stat 'kaggle.json': No such file or directory\n",
            "chmod: cannot access '/root/.kaggle/kaggle.json': No such file or directory\n"
          ]
        }
      ],
      "source": [
        "! pip install -q kaggle\n",
        "! mkdir ~/.kaggle\n",
        "! cp kaggle.json ~/.kaggle/\n",
        "! chmod 600 ~/.kaggle/kaggle.json"
      ]
    },
    {
      "cell_type": "code",
      "execution_count": null,
      "metadata": {
        "colab": {
          "base_uri": "https://localhost:8080/"
        },
        "id": "p9nFOjosjr6a",
        "outputId": "228fbe26-1468-47e6-f728-de13db1ac1a0"
      },
      "outputs": [
        {
          "output_type": "stream",
          "name": "stdout",
          "text": [
            "Dataset URL: https://www.kaggle.com/datasets/puneet6060/intel-image-classification\n",
            "License(s): copyright-authors\n",
            "Downloading intel-image-classification.zip to /content\n",
            " 95% 329M/346M [00:02<00:00, 154MB/s]\n",
            "100% 346M/346M [00:02<00:00, 161MB/s]\n"
          ]
        }
      ],
      "source": [
        "! kaggle datasets download -d puneet6060/intel-image-classification"
      ]
    },
    {
      "cell_type": "markdown",
      "source": [],
      "metadata": {
        "id": "kjfcXwYqHDNl"
      }
    },
    {
      "cell_type": "code",
      "execution_count": null,
      "metadata": {
        "id": "ixt22DAfg1em"
      },
      "outputs": [],
      "source": [
        "import pandas as pd\n",
        "import matplotlib.pyplot as plt\n",
        "import numpy as np\n",
        "import tensorflow as tf\n",
        "from tensorflow import keras\n",
        "from tensorflow.keras import layers\n",
        "from tensorflow.keras.models import Sequential\n",
        "from tensorflow.keras import regularizers\n",
        "#import tensorflow_dataset as tfds\n",
        "from keras.callbacks import ModelCheckpoint, LearningRateScheduler\n",
        "from keras.callbacks import ReduceLROnPlateau\n",
        "from keras.optimizers import Adam\n",
        "from keras.preprocessing.image import ImageDataGenerator\n",
        "import pathlib"
      ]
    },
    {
      "cell_type": "code",
      "execution_count": null,
      "metadata": {
        "id": "qfT12M6smV_x"
      },
      "outputs": [],
      "source": [
        "from zipfile import ZipFile"
      ]
    },
    {
      "cell_type": "code",
      "execution_count": null,
      "metadata": {
        "id": "YEmHm9wAmav3"
      },
      "outputs": [],
      "source": [
        "with ZipFile(\"/content/intel-image-classification.zip\", 'r') as zObject:\n",
        "  zObject.extractall(\n",
        "        path=\"/content/intel-image-classification\")"
      ]
    },
    {
      "cell_type": "code",
      "execution_count": null,
      "metadata": {
        "colab": {
          "base_uri": "https://localhost:8080/"
        },
        "id": "keiTa8HCg1ep",
        "outputId": "861d971d-1764-4a2d-80f0-98b695defff5"
      },
      "outputs": [
        {
          "output_type": "execute_result",
          "data": {
            "text/plain": [
              "(14034, 3000)"
            ]
          },
          "metadata": {},
          "execution_count": 28
        }
      ],
      "source": [
        "dataset_dir =  \"/content/intel-image-classification/\"\n",
        "# Đường dẫn file training\n",
        "data_train = pathlib.Path(dataset_dir + \"/seg_train/seg_train\")\n",
        "# Đường dẫn file test\n",
        "data_test = pathlib.Path(dataset_dir + \"/seg_test/seg_test\")\n",
        "#Số lượng ảnh có trong file training và test\n",
        "train_count = len(list(data_train.glob('*/*.jpg')))\n",
        "test_count = len(list(data_test.glob('*/*.jpg')))\n",
        "train_count, test_count"
      ]
    },
    {
      "cell_type": "code",
      "execution_count": null,
      "metadata": {
        "id": "grTFopmAg1eq"
      },
      "outputs": [],
      "source": [
        "batch_size = 64\n",
        "img_height = 150\n",
        "img_width = 150\n",
        "\n",
        "epochs = 20"
      ]
    },
    {
      "cell_type": "code",
      "execution_count": null,
      "metadata": {
        "id": "fJM3Rjf0g1eq"
      },
      "outputs": [],
      "source": [
        "train_datagen = ImageDataGenerator(\n",
        "        rotation_range=30,\n",
        "        zoom_range=0.15,\n",
        "        width_shift_range=0.15,\n",
        "        height_shift_range=0.15,\n",
        "        shear_range=0.15,\n",
        "        horizontal_flip=True,\n",
        "        fill_mode=\"nearest\")\n",
        "\n",
        "test_datagen = ImageDataGenerator()"
      ]
    },
    {
      "cell_type": "code",
      "execution_count": null,
      "metadata": {
        "colab": {
          "base_uri": "https://localhost:8080/"
        },
        "id": "hODOFIVug1er",
        "outputId": "7d3e62b8-b407-494b-c774-5cb922fdd790"
      },
      "outputs": [
        {
          "output_type": "stream",
          "name": "stdout",
          "text": [
            "Found 14034 images belonging to 6 classes.\n",
            "Found 3000 images belonging to 6 classes.\n"
          ]
        }
      ],
      "source": [
        "train_ds = train_datagen.flow_from_directory(\n",
        "    data_train,\n",
        "    target_size=(img_height, img_width),\n",
        "    batch_size=batch_size,\n",
        "    seed=123,\n",
        "    class_mode='categorical')\n",
        "\n",
        "val_ds = test_datagen.flow_from_directory(\n",
        "    data_test,\n",
        "    target_size=(img_height, img_width),\n",
        "    batch_size=batch_size,\n",
        "    seed=123,\n",
        "    class_mode='categorical')\n",
        "\n",
        "#class_names = train_ds.class_names\n",
        "#(class_names)\n",
        "#print(train_ds)\n"
      ]
    },
    {
      "cell_type": "code",
      "execution_count": null,
      "metadata": {
        "id": "XkN23_Kyg1es"
      },
      "outputs": [],
      "source": [
        "#AUTOTUNE = tf.data.AUTOTUNE\n",
        "\n",
        "#train_ds = train_ds.cache().shuffle(1000).prefetch(buffer_size=AUTOTUNE)\n",
        "#val_ds = val_ds.cache().prefetch(buffer_size=AUTOTUNE)"
      ]
    },
    {
      "cell_type": "code",
      "execution_count": null,
      "metadata": {
        "id": "3V6hIbqKg1es"
      },
      "outputs": [],
      "source": [
        "lr_reducer = ReduceLROnPlateau(factor = np.sqrt(0.1),\n",
        "                               cooldown = 0,\n",
        "                               patience = 2,\n",
        "                               min_lr = 0.5e-6)"
      ]
    },
    {
      "cell_type": "code",
      "execution_count": null,
      "metadata": {
        "id": "yj6f8mXtOLJE"
      },
      "outputs": [],
      "source": [
        "from tensorflow.keras.layers import Dense, Dropout, Activation, Flatten, Conv2D, MaxPooling2D, SeparableConv2D, UpSampling2D, BatchNormalization, Input, GlobalAveragePooling2D\n",
        "from tensorflow.keras import models, layers\n",
        "from tensorflow.keras import regularizers\n",
        "from tensorflow.keras.models import Model, model_from_json, Sequential"
      ]
    },
    {
      "cell_type": "code",
      "execution_count": null,
      "metadata": {
        "id": "8o4TEtYFc0iK"
      },
      "outputs": [],
      "source": [
        "def flow(input):\n",
        "  x = Conv2D(32, 3, strides = 2, padding = 'same')(input)\n",
        "  x = BatchNormalization()(x)\n",
        "  x = Activation('relu')(x)\n",
        "\n",
        "  x = Conv2D(64, 3, padding = 'same')(x)\n",
        "  x = BatchNormalization()(x)\n",
        "  x = Activation('relu')(x)\n",
        "\n",
        "  previous = x\n",
        "\n",
        "  x = SeparableConv2D(64, 3, padding = 'same')(x)\n",
        "  x = BatchNormalization()(x)\n",
        "  x = Activation('relu')(x)\n",
        "\n",
        "  x = SeparableConv2D(64, 3, padding = 'same')(x)\n",
        "  x = BatchNormalization()(x)\n",
        "  x = Activation('relu')(x)\n",
        "\n",
        "  x = MaxPooling2D(3, strides = 2, padding = 'same')(x)\n",
        "\n",
        "  y = Conv2D(64, 1, strides = 2, padding = 'same')(previous)\n",
        "  x = layers.Add()([x, y])\n",
        "\n",
        "  previous = x\n",
        "\n",
        "  x = SeparableConv2D(128, 3, padding = 'same')(x)\n",
        "  x = BatchNormalization()(x)\n",
        "  x = Activation('relu')(x)\n",
        "\n",
        "  x = SeparableConv2D(128, 3, padding = 'same')(x)\n",
        "  x = BatchNormalization()(x)\n",
        "  x = Activation('relu')(x)\n",
        "\n",
        "  x = MaxPooling2D(3, strides = 2, padding = 'same')(x)\n",
        "\n",
        "  y = Conv2D(128, 1, strides = 2, padding = 'same')(previous)\n",
        "\n",
        "  x = layers.Add()([x, y])\n",
        "\n",
        "\n",
        "  previous_1 = x\n",
        "\n",
        "  x = SeparableConv2D(128, 3, padding = 'same')(x)\n",
        "  x = BatchNormalization()(x)\n",
        "  x = Activation('relu')(x)\n",
        "\n",
        "  x = layers.Add()([x, previous_1])\n",
        "\n",
        "  previous = x\n",
        "\n",
        "  x = SeparableConv2D(128, 3, padding = 'same')(x)\n",
        "  x = BatchNormalization()(x)\n",
        "  x = Activation('relu')(x)\n",
        "\n",
        "  x = SeparableConv2D(128, 3, padding = 'same')(x)\n",
        "  x = BatchNormalization()(x)\n",
        "  x = Activation('relu')(x)\n",
        "\n",
        "  x = MaxPooling2D(3, strides = 2, padding = 'same')(x)\n",
        "\n",
        "  y = Conv2D(128, 1, strides = 2, padding = 'same')(previous)\n",
        "\n",
        "  x = layers.Add()([x, y])\n",
        "\n",
        "  x = SeparableConv2D(256, 3, padding = 'same')(x)\n",
        "  x = Activation('relu')(x)\n",
        "  x = SeparableConv2D(256, 3, padding = 'same')(x)\n",
        "  x = Activation('relu')(x)\n",
        "  x = GlobalAveragePooling2D()(x)\n",
        "  x = Dense(6, activation='softmax')(x)\n",
        "  return x\n"
      ]
    },
    {
      "cell_type": "code",
      "execution_count": null,
      "metadata": {
        "id": "5Eb_Lm0GOXw9"
      },
      "outputs": [],
      "source": [
        "inputs = Input(shape=(img_height, img_width, 3))\n",
        "#outputs = exit_flow(middle_flow(entry_flow(inputs)))\n",
        "outputs = flow(inputs)\n",
        "\n",
        "x = Model(inputs, outputs)\n"
      ]
    },
    {
      "cell_type": "code",
      "execution_count": null,
      "metadata": {
        "id": "M-EWpjpfg1et"
      },
      "outputs": [],
      "source": [
        "x.compile(optimizer='adam',\n",
        "            loss=tf.keras.losses.CategoricalCrossentropy(),\n",
        "            metrics=['accuracy'])"
      ]
    },
    {
      "cell_type": "code",
      "execution_count": null,
      "metadata": {
        "colab": {
          "base_uri": "https://localhost:8080/"
        },
        "id": "Iu5LUFlJg1et",
        "outputId": "d041ec57-9e12-4f25-a7bc-cc569106e584"
      },
      "outputs": [
        {
          "output_type": "stream",
          "name": "stdout",
          "text": [
            "Model: \"model\"\n",
            "__________________________________________________________________________________________________\n",
            " Layer (type)                Output Shape                 Param #   Connected to                  \n",
            "==================================================================================================\n",
            " input_1 (InputLayer)        [(None, 150, 150, 3)]        0         []                            \n",
            "                                                                                                  \n",
            " conv2d (Conv2D)             (None, 75, 75, 32)           896       ['input_1[0][0]']             \n",
            "                                                                                                  \n",
            " batch_normalization (Batch  (None, 75, 75, 32)           128       ['conv2d[0][0]']              \n",
            " Normalization)                                                                                   \n",
            "                                                                                                  \n",
            " activation (Activation)     (None, 75, 75, 32)           0         ['batch_normalization[0][0]'] \n",
            "                                                                                                  \n",
            " conv2d_1 (Conv2D)           (None, 75, 75, 64)           18496     ['activation[0][0]']          \n",
            "                                                                                                  \n",
            " batch_normalization_1 (Bat  (None, 75, 75, 64)           256       ['conv2d_1[0][0]']            \n",
            " chNormalization)                                                                                 \n",
            "                                                                                                  \n",
            " activation_1 (Activation)   (None, 75, 75, 64)           0         ['batch_normalization_1[0][0]'\n",
            "                                                                    ]                             \n",
            "                                                                                                  \n",
            " separable_conv2d (Separabl  (None, 75, 75, 64)           4736      ['activation_1[0][0]']        \n",
            " eConv2D)                                                                                         \n",
            "                                                                                                  \n",
            " batch_normalization_2 (Bat  (None, 75, 75, 64)           256       ['separable_conv2d[0][0]']    \n",
            " chNormalization)                                                                                 \n",
            "                                                                                                  \n",
            " activation_2 (Activation)   (None, 75, 75, 64)           0         ['batch_normalization_2[0][0]'\n",
            "                                                                    ]                             \n",
            "                                                                                                  \n",
            " separable_conv2d_1 (Separa  (None, 75, 75, 64)           4736      ['activation_2[0][0]']        \n",
            " bleConv2D)                                                                                       \n",
            "                                                                                                  \n",
            " batch_normalization_3 (Bat  (None, 75, 75, 64)           256       ['separable_conv2d_1[0][0]']  \n",
            " chNormalization)                                                                                 \n",
            "                                                                                                  \n",
            " activation_3 (Activation)   (None, 75, 75, 64)           0         ['batch_normalization_3[0][0]'\n",
            "                                                                    ]                             \n",
            "                                                                                                  \n",
            " max_pooling2d (MaxPooling2  (None, 38, 38, 64)           0         ['activation_3[0][0]']        \n",
            " D)                                                                                               \n",
            "                                                                                                  \n",
            " conv2d_2 (Conv2D)           (None, 38, 38, 64)           4160      ['activation_1[0][0]']        \n",
            "                                                                                                  \n",
            " add (Add)                   (None, 38, 38, 64)           0         ['max_pooling2d[0][0]',       \n",
            "                                                                     'conv2d_2[0][0]']            \n",
            "                                                                                                  \n",
            " separable_conv2d_2 (Separa  (None, 38, 38, 128)          8896      ['add[0][0]']                 \n",
            " bleConv2D)                                                                                       \n",
            "                                                                                                  \n",
            " batch_normalization_4 (Bat  (None, 38, 38, 128)          512       ['separable_conv2d_2[0][0]']  \n",
            " chNormalization)                                                                                 \n",
            "                                                                                                  \n",
            " activation_4 (Activation)   (None, 38, 38, 128)          0         ['batch_normalization_4[0][0]'\n",
            "                                                                    ]                             \n",
            "                                                                                                  \n",
            " separable_conv2d_3 (Separa  (None, 38, 38, 128)          17664     ['activation_4[0][0]']        \n",
            " bleConv2D)                                                                                       \n",
            "                                                                                                  \n",
            " batch_normalization_5 (Bat  (None, 38, 38, 128)          512       ['separable_conv2d_3[0][0]']  \n",
            " chNormalization)                                                                                 \n",
            "                                                                                                  \n",
            " activation_5 (Activation)   (None, 38, 38, 128)          0         ['batch_normalization_5[0][0]'\n",
            "                                                                    ]                             \n",
            "                                                                                                  \n",
            " max_pooling2d_1 (MaxPoolin  (None, 19, 19, 128)          0         ['activation_5[0][0]']        \n",
            " g2D)                                                                                             \n",
            "                                                                                                  \n",
            " conv2d_3 (Conv2D)           (None, 19, 19, 128)          8320      ['add[0][0]']                 \n",
            "                                                                                                  \n",
            " add_1 (Add)                 (None, 19, 19, 128)          0         ['max_pooling2d_1[0][0]',     \n",
            "                                                                     'conv2d_3[0][0]']            \n",
            "                                                                                                  \n",
            " separable_conv2d_4 (Separa  (None, 19, 19, 128)          17664     ['add_1[0][0]']               \n",
            " bleConv2D)                                                                                       \n",
            "                                                                                                  \n",
            " batch_normalization_6 (Bat  (None, 19, 19, 128)          512       ['separable_conv2d_4[0][0]']  \n",
            " chNormalization)                                                                                 \n",
            "                                                                                                  \n",
            " activation_6 (Activation)   (None, 19, 19, 128)          0         ['batch_normalization_6[0][0]'\n",
            "                                                                    ]                             \n",
            "                                                                                                  \n",
            " add_2 (Add)                 (None, 19, 19, 128)          0         ['activation_6[0][0]',        \n",
            "                                                                     'add_1[0][0]']               \n",
            "                                                                                                  \n",
            " separable_conv2d_5 (Separa  (None, 19, 19, 128)          17664     ['add_2[0][0]']               \n",
            " bleConv2D)                                                                                       \n",
            "                                                                                                  \n",
            " batch_normalization_7 (Bat  (None, 19, 19, 128)          512       ['separable_conv2d_5[0][0]']  \n",
            " chNormalization)                                                                                 \n",
            "                                                                                                  \n",
            " activation_7 (Activation)   (None, 19, 19, 128)          0         ['batch_normalization_7[0][0]'\n",
            "                                                                    ]                             \n",
            "                                                                                                  \n",
            " separable_conv2d_6 (Separa  (None, 19, 19, 128)          17664     ['activation_7[0][0]']        \n",
            " bleConv2D)                                                                                       \n",
            "                                                                                                  \n",
            " batch_normalization_8 (Bat  (None, 19, 19, 128)          512       ['separable_conv2d_6[0][0]']  \n",
            " chNormalization)                                                                                 \n",
            "                                                                                                  \n",
            " activation_8 (Activation)   (None, 19, 19, 128)          0         ['batch_normalization_8[0][0]'\n",
            "                                                                    ]                             \n",
            "                                                                                                  \n",
            " max_pooling2d_2 (MaxPoolin  (None, 10, 10, 128)          0         ['activation_8[0][0]']        \n",
            " g2D)                                                                                             \n",
            "                                                                                                  \n",
            " conv2d_4 (Conv2D)           (None, 10, 10, 128)          16512     ['add_2[0][0]']               \n",
            "                                                                                                  \n",
            " add_3 (Add)                 (None, 10, 10, 128)          0         ['max_pooling2d_2[0][0]',     \n",
            "                                                                     'conv2d_4[0][0]']            \n",
            "                                                                                                  \n",
            " separable_conv2d_7 (Separa  (None, 10, 10, 256)          34176     ['add_3[0][0]']               \n",
            " bleConv2D)                                                                                       \n",
            "                                                                                                  \n",
            " activation_9 (Activation)   (None, 10, 10, 256)          0         ['separable_conv2d_7[0][0]']  \n",
            "                                                                                                  \n",
            " separable_conv2d_8 (Separa  (None, 10, 10, 256)          68096     ['activation_9[0][0]']        \n",
            " bleConv2D)                                                                                       \n",
            "                                                                                                  \n",
            " activation_10 (Activation)  (None, 10, 10, 256)          0         ['separable_conv2d_8[0][0]']  \n",
            "                                                                                                  \n",
            " global_average_pooling2d (  (None, 256)                  0         ['activation_10[0][0]']       \n",
            " GlobalAveragePooling2D)                                                                          \n",
            "                                                                                                  \n",
            " dense (Dense)               (None, 6)                    1542      ['global_average_pooling2d[0][\n",
            "                                                                    0]']                          \n",
            "                                                                                                  \n",
            "==================================================================================================\n",
            "Total params: 244678 (955.77 KB)\n",
            "Trainable params: 242950 (949.02 KB)\n",
            "Non-trainable params: 1728 (6.75 KB)\n",
            "__________________________________________________________________________________________________\n"
          ]
        }
      ],
      "source": [
        "x.summary()"
      ]
    },
    {
      "cell_type": "code",
      "execution_count": null,
      "metadata": {
        "colab": {
          "base_uri": "https://localhost:8080/"
        },
        "id": "wSf0VyDig1et",
        "outputId": "ecf020d1-9783-4140-c2d2-cfe52667eebc"
      },
      "outputs": [
        {
          "output_type": "stream",
          "name": "stdout",
          "text": [
            "Epoch 1/20\n",
            "220/220 [==============================] - 112s 444ms/step - loss: 1.0826 - accuracy: 0.5522 - val_loss: 1.7607 - val_accuracy: 0.3190 - lr: 0.0010\n",
            "Epoch 2/20\n",
            "220/220 [==============================] - 93s 424ms/step - loss: 0.7538 - accuracy: 0.7159 - val_loss: 1.5260 - val_accuracy: 0.4930 - lr: 0.0010\n",
            "Epoch 3/20\n",
            "220/220 [==============================] - 95s 432ms/step - loss: 0.6428 - accuracy: 0.7624 - val_loss: 0.7061 - val_accuracy: 0.7197 - lr: 0.0010\n",
            "Epoch 4/20\n",
            "220/220 [==============================] - 94s 429ms/step - loss: 0.5702 - accuracy: 0.7948 - val_loss: 0.6405 - val_accuracy: 0.7703 - lr: 0.0010\n",
            "Epoch 5/20\n",
            "220/220 [==============================] - 93s 422ms/step - loss: 0.5201 - accuracy: 0.8125 - val_loss: 0.7994 - val_accuracy: 0.7233 - lr: 0.0010\n",
            "Epoch 6/20\n",
            "220/220 [==============================] - 94s 428ms/step - loss: 0.4883 - accuracy: 0.8273 - val_loss: 0.6928 - val_accuracy: 0.7460 - lr: 0.0010\n",
            "Epoch 7/20\n",
            "220/220 [==============================] - 95s 433ms/step - loss: 0.4659 - accuracy: 0.8317 - val_loss: 0.5997 - val_accuracy: 0.7753 - lr: 0.0010\n",
            "Epoch 8/20\n",
            "220/220 [==============================] - 95s 431ms/step - loss: 0.4429 - accuracy: 0.8418 - val_loss: 0.6118 - val_accuracy: 0.7940 - lr: 0.0010\n",
            "Epoch 9/20\n",
            "220/220 [==============================] - 94s 425ms/step - loss: 0.4182 - accuracy: 0.8531 - val_loss: 0.4597 - val_accuracy: 0.8277 - lr: 0.0010\n",
            "Epoch 10/20\n",
            "220/220 [==============================] - 95s 430ms/step - loss: 0.4018 - accuracy: 0.8551 - val_loss: 0.5155 - val_accuracy: 0.8203 - lr: 0.0010\n",
            "Epoch 11/20\n",
            "220/220 [==============================] - 94s 426ms/step - loss: 0.3874 - accuracy: 0.8615 - val_loss: 0.4408 - val_accuracy: 0.8410 - lr: 0.0010\n",
            "Epoch 12/20\n",
            "220/220 [==============================] - 95s 431ms/step - loss: 0.3796 - accuracy: 0.8654 - val_loss: 0.8113 - val_accuracy: 0.7247 - lr: 0.0010\n",
            "Epoch 13/20\n",
            "220/220 [==============================] - 94s 428ms/step - loss: 0.3598 - accuracy: 0.8709 - val_loss: 0.5311 - val_accuracy: 0.8257 - lr: 0.0010\n",
            "Epoch 14/20\n",
            "220/220 [==============================] - 95s 431ms/step - loss: 0.3620 - accuracy: 0.8699 - val_loss: 0.4006 - val_accuracy: 0.8670 - lr: 0.0010\n",
            "Epoch 15/20\n",
            "220/220 [==============================] - 97s 439ms/step - loss: 0.3472 - accuracy: 0.8738 - val_loss: 0.5037 - val_accuracy: 0.8430 - lr: 0.0010\n",
            "Epoch 16/20\n",
            "220/220 [==============================] - 95s 433ms/step - loss: 0.3410 - accuracy: 0.8787 - val_loss: 0.4756 - val_accuracy: 0.8423 - lr: 0.0010\n",
            "Epoch 17/20\n",
            "220/220 [==============================] - 96s 435ms/step - loss: 0.3375 - accuracy: 0.8800 - val_loss: 0.4289 - val_accuracy: 0.8520 - lr: 0.0010\n",
            "Epoch 18/20\n",
            "220/220 [==============================] - 95s 429ms/step - loss: 0.2819 - accuracy: 0.8992 - val_loss: 0.4028 - val_accuracy: 0.8560 - lr: 3.1623e-04\n",
            "Epoch 19/20\n",
            "220/220 [==============================] - 99s 448ms/step - loss: 0.2665 - accuracy: 0.9028 - val_loss: 0.3152 - val_accuracy: 0.8890 - lr: 3.1623e-04\n",
            "Epoch 20/20\n",
            "220/220 [==============================] - 97s 442ms/step - loss: 0.2613 - accuracy: 0.9054 - val_loss: 0.3456 - val_accuracy: 0.8840 - lr: 3.1623e-04\n"
          ]
        }
      ],
      "source": [
        "history = x.fit(\n",
        "  train_ds,\n",
        "  validation_data=val_ds,\n",
        "  epochs=epochs,\n",
        "  callbacks = [lr_reducer]\n",
        ")"
      ]
    },
    {
      "cell_type": "markdown",
      "metadata": {
        "id": "tSFNa3J3g1eu"
      },
      "source": []
    },
    {
      "cell_type": "code",
      "execution_count": null,
      "metadata": {
        "colab": {
          "base_uri": "https://localhost:8080/",
          "height": 699
        },
        "id": "u0dRuTj7g1ev",
        "outputId": "f6953239-4fa3-4b5c-ee45-4b7abb4b49da"
      },
      "outputs": [
        {
          "output_type": "display_data",
          "data": {
            "text/plain": [
              "<Figure size 800x800 with 2 Axes>"
            ],
            "image/png": "[encoded data removed]"
          },
          "metadata": {}
        }
      ],
      "source": [
        "acc = history.history['accuracy']\n",
        "val_acc = history.history['val_accuracy']\n",
        "\n",
        "loss = history.history['loss']\n",
        "val_loss = history.history['val_loss']\n",
        "\n",
        "epochs_range = range(epochs)\n",
        "\n",
        "plt.figure(figsize=(8, 8))\n",
        "plt.subplot(1, 2, 1)\n",
        "plt.plot(epochs_range, acc, label='Training Accuracy')\n",
        "plt.plot(epochs_range, val_acc, label='Validation Accuracy')\n",
        "plt.legend(loc='lower right')\n",
        "plt.title('Training and Validation Accuracy')\n",
        "\n",
        "plt.subplot(1, 2, 2)\n",
        "plt.plot(epochs_range, loss, label='Training Loss')\n",
        "plt.plot(epochs_range, val_loss, label='Validation Loss')\n",
        "plt.legend(loc='upper right')\n",
        "plt.title('Training and Validation Loss')\n",
        "plt.show()\n"
      ]
    }
  ],
  "metadata": {
    "accelerator": "GPU",
    "colab": {
      "provenance": [],
      "gpuType": "T4"
    },
    "gpuClass": "standard",
    "kernelspec": {
      "display_name": "Python 3",
      "language": "python",
      "name": "python3"
    },
    "language_info": {
      "codemirror_mode": {
        "name": "ipython",
        "version": 3
      },
      "file_extension": ".py",
      "mimetype": "text/x-python",
      "name": "python",
      "nbconvert_exporter": "python",
      "pygments_lexer": "ipython3",
      "version": "3.10.10"
    },
    "vscode": {
      "interpreter": {
        "hash": "3309d1768b207655b82a02b8a934bd1372e13b5ff108d6493d4204df665dea3d"
      }
    }
  },
  "nbformat": 4,
  "nbformat_minor": 0
}